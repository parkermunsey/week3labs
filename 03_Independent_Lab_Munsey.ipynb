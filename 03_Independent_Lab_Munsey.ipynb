{
  "metadata": {
    "kernelspec": {
      "name": "python",
      "display_name": "Python (Pyodide)",
      "language": "python"
    },
    "language_info": {
      "codemirror_mode": {
        "name": "python",
        "version": 3
      },
      "file_extension": ".py",
      "mimetype": "text/x-python",
      "name": "python",
      "nbconvert_exporter": "python",
      "pygments_lexer": "ipython3",
      "version": "3.8"
    }
  },
  "nbformat_minor": 5,
  "nbformat": 4,
  "cells": [
    {
      "id": "0554bae2-e6b2-48cd-becc-264e68f16b85",
      "cell_type": "code",
      "source": "# Self-Service Kiosk Logic (Hot Dog Vendor - Hard-coded version for testing)\n\ndef self_service_kiosk():\n    # Define hot dog styles and prices\n    products = {\n        1: (\"Classic Dog\", 3.50),\n        2: (\"Chili Cheese Dog\", 4.75),\n        3: (\"Polish Hotdog, Pretzel Bun\", 5.25),\n        4: (\"Veggie Dog\", 4.00),\n        5: (\"Chicago Style Dog\", 4.50)\n    }\n    \n    # Initialize order summary and total\n    order_summary = {product: 0 for product in products.keys()}\n    total_cost = 0.0\n    \n    print(\"Welcome to Parker's Famous Hot Dog Stand!\\n\")\n    print(\"Here are the hot dog options:\")\n    print(\"|   | Product                 | Price  |\")\n    for key, (name, price) in products.items():\n        print(f\"| {key} | {name:<22} | ${price:.2f} |\")\n    \n    # ---- Simulate User Orders ----\n    # First order\n    product_choice = 2  # Chili Cheese Dog\n    quantity = 2\n    order_summary[product_choice] += quantity\n    total_cost += products[product_choice][1] * quantity\n    print(f\"\\nYou just added {quantity} of {products[product_choice][0]}.\")\n    print(f\"Your current total is: ${total_cost:.2f}\\n\")\n    \n\n    \n    # ---- Hard-coded user says \"I'm done\" ----\n    next_step = \"1\"  # User chooses to finalize\n    \n    if next_step == \"1\":\n        # Final summary\n        print(\"\\nHere is a summary of your final order:\")\n        print(\"| Product                 | Quantity |\")\n        for key, (name, _) in products.items():\n            print(f\"| {name:<22} | {order_summary[key]:>5}    |\")\n        print(f\"\\nThe total cost for your order is: ${total_cost:.2f}\\n\")\n    else:\n        print(\"Continuing order... (This should not happen in hard-coded version)\")\n\n# Run the kiosk function\nself_service_kiosk()\n\n\n",
      "metadata": {
        "trusted": true,
        "scrolled": true
      },
      "outputs": [
        {
          "name": "stdout",
          "output_type": "stream",
          "text": "Welcome to Parker's Famous Hot Dog Stand!\n\nHere are the hot dog options:\n|   | Product                 | Price  |\n| 1 | Classic Dog            | $3.50 |\n| 2 | Chili Cheese Dog       | $4.75 |\n| 3 | Polish Hotdog, Pretzel Bun | $5.25 |\n| 4 | Veggie Dog             | $4.00 |\n| 5 | Chicago Style Dog      | $4.50 |\n\nYou just added 2 of Chili Cheese Dog.\nYour current total is: $9.50\n\n\nHere is a summary of your final order:\n| Product                 | Quantity |\n| Classic Dog            |     0    |\n| Chili Cheese Dog       |     2    |\n| Polish Hotdog, Pretzel Bun |     0    |\n| Veggie Dog             |     0    |\n| Chicago Style Dog      |     0    |\n\nThe total cost for your order is: $9.50\n\n"
        }
      ],
      "execution_count": 4
    },
    {
      "id": "697106dc-c17a-4928-807f-20d512681537",
      "cell_type": "code",
      "source": "",
      "metadata": {
        "trusted": true
      },
      "outputs": [],
      "execution_count": null
    }
  ]
}