{
  "metadata": {
    "kernelspec": {
      "name": "python",
      "display_name": "Python (Pyodide)",
      "language": "python"
    },
    "language_info": {
      "codemirror_mode": {
        "name": "python",
        "version": 3
      },
      "file_extension": ".py",
      "mimetype": "text/x-python",
      "name": "python",
      "nbconvert_exporter": "python",
      "pygments_lexer": "ipython3",
      "version": "3.8"
    }
  },
  "nbformat_minor": 5,
  "nbformat": 4,
  "cells": [
    {
      "id": "6f5bb14f-c305-40fc-9657-1fba45f463b3",
      "cell_type": "code",
      "source": "# Step 1: Initialize Variables\ncelsius = 0.0  # Variable to store Celsius input\nfahrenheit = 0.0  # Variable to store converted Fahrenheit value\nkelvin = 0.0 #Added Kelvin to original \n\n# Step 2: Request User Input\ncelsius = 37\n\n# Step 3: Convert Celsius to Fahrenheit\nfahrenheit = (9 / 5) * celsius + 32\nkelvin = celsius + 273.15 #add Celsius Conversion to Kelvin \n\n# Step 4: Output the Result\nprint(f\"{celsius} degrees Celsius is {fahrenheit} degrees Fahrenheit which is {kelvin} degrees Kelvin\")  #add print for Kelvin\n\n\n\t\n#Comparison Operators\n\ncelsius_two = 0.0\nfahrenheit_two = 0.0\nkelvin_two = 0.0 \n\n#ask for second set of outputs\ncelsius_two = 45\n\nfahrenheit_two = (9 / 5) * celsius_two + 32\nkelvin_two = celsius_two + 273.15\n\nprint(f\" Second set of Values: {celsius_two} degrees Celsius is {fahrenheit_two} degrees Fahrenheit which is {kelvin_two} degrees Kelvin\")\n\nif celsius > celsius_two:\n    print(f\"The original Celsius value of {celsius} is larger than the new value of {celsius_two}.\")\nelif celsius < celsius_two:\n    print(f\"The original Celsius value of {celsius} is smaller than the new value of {celsius_two}.\")\nelse:\n    print(f\"The original Celsius value of {celsius} equals the new value of {celsius_two}.\")\n\nif fahrenheit >= fahrenheit_two:\n    print(f\"The original Fahrenheit value of {fahrenheit} is greater than or equal to the new value of {fahrenheit_two}.\")\nelif fahrenheit < fahrenheit_two:\n    print(f\"The original Fahrenheit value of {fahrenheit} is smaller than the new value of {fahrenheit_two}.\")\nelse:\n    print(f\"The original Fahrenheit value of {fahrenheit} is equal to {fahrenheit_two}.\")\n\nif kelvin == kelvin_two:\n    print(f\"The original Kelvin value of {kelvin} is equal to the new value of {kelvin_two}.\")\nelif kelvin < kelvin_two:\n    print(f\"The original Kelvin value of {kelvin} is smaller than the new value of {kelvin_two}.\")\nelse:\n    print(f\"The original Kelvin value of {kelvin} is greater than the new value of {kelvin_two}.\")\n\n# Logical Operators\nprint(\"\\nUsing logical operators:\")\nprint(\"celsius == celsius_two and fahrenheit < fahrenheit_two\")\nif celsius == celsius_two and fahrenheit < fahrenheit_two:\n    print(\"Python speaks the truth!\")\nelse:\n    print(\"Python lies.\")\n\nprint(\"celsius == celsius_two or kelvin != kelvin_two\")\nif celsius == celsius_two or kelvin != kelvin_two:\n    print(\"Python speaks the truth!\")\nelse:\n    print(\"Python lies.\")",
      "metadata": {
        "trusted": true
      },
      "outputs": [
        {
          "name": "stdout",
          "output_type": "stream",
          "text": "37 degrees Celsius is 98.60000000000001 degrees Fahrenheit which is 310.15 degrees Kelvin\n Second set of Values: 45 degrees Celsius is 113.0 degrees Fahrenheit which is 318.15 degrees Kelvin\nThe original Celsius value of 37 is smaller than the new value of 45.\nThe original Fahrenheit value of 98.60000000000001 is smaller than the new value of 113.0.\nThe original Kelvin value of 310.15 is smaller than the new value of 318.15.\n\nUsing logical operators:\ncelsius == celsius_two and fahrenheit < fahrenheit_two\nPython lies.\ncelsius == celsius_two or kelvin != kelvin_two\nPython speaks the truth!\n"
        }
      ],
      "execution_count": 7
    },
    {
      "id": "dfd0d767-da9a-42f2-853b-b29f45f74519",
      "cell_type": "code",
      "source": "",
      "metadata": {
        "trusted": true
      },
      "outputs": [],
      "execution_count": null
    }
  ]
}