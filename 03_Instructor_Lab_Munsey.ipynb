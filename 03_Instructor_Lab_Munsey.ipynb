{
  "metadata": {
    "kernelspec": {
      "name": "python",
      "display_name": "Python (Pyodide)",
      "language": "python"
    },
    "language_info": {
      "codemirror_mode": {
        "name": "python",
        "version": 3
      },
      "file_extension": ".py",
      "mimetype": "text/x-python",
      "name": "python",
      "nbconvert_exporter": "python",
      "pygments_lexer": "ipython3",
      "version": "3.8"
    }
  },
  "nbformat_minor": 5,
  "nbformat": 4,
  "cells": [
    {
      "id": "f92c3086-4bc3-40cd-a645-24196ef9a6cf",
      "cell_type": "code",
      "source": "# Celsius to Fahrenheit and Kelvin Converter with Comparisons\n\ndef convert_temperatures(celsius):\n    fahrenheit = (celsius * 9/5) + 32\n    kelvin = celsius + 273.15\n    return fahrenheit, kelvin\n\n# Welcome message\nprint(\"Welcome to my Fahrenheit to Celsius converter!\")\n\nimport asyncio\n\nasync def get_temperature():\n    return float(await input(\"Please provide a value, in Celsius, to convert: \"))\n\nasync def main():\n    print(\"Welcome to my Fahrenheit to Celsius converter!\")\n\n    # Get first Celsius input\n    celsius = await get_temperature()\n    fahrenheit, kelvin = (celsius * 9/5) + 32, celsius + 273.15\n    print(f\"{celsius} degrees Celsius is {fahrenheit} degrees Fahrenheit which is {kelvin} degrees Kelvin.\\n\")\n\n    # Get second Celsius input\n    celsius_two = await get_temperature()\n    fahrenheit_two, kelvin_two = (celsius_two * 9/5) + 32, celsius_two + 273.15\n    print(f\"Second set of values: {celsius_two} degrees Celsius is {fahrenheit_two} degrees Fahrenheit which is {kelvin_two} degrees Kelvin.\\n\")\n\n# Run the async function in Jupyter\nawait main()\n\n\n# Get first Celsius input from user\ncelsius = float(input(\"Please provide a value, in Celsius, to convert: \"))\nfahrenheit, kelvin = convert_temperatures(celsius)\nprint(f\"{celsius} degrees Celsius is {fahrenheit} degrees Fahrenheit which is {kelvin} degrees Kelvin.\\n\")\n\n# Get second Celsius input from user\ncelsius_two = float(input(\"Please provide another value, in Celsius, to convert: \"))\nfahrenheit_two, kelvin_two = convert_temperatures(celsius_two)\nprint(f\"Second set of values: {celsius_two} degrees Celsius is {fahrenheit_two} degrees Fahrenheit which is {kelvin_two} degrees Kelvin.\\n\")\n\n# Comparison of values\nif celsius > celsius_two:\n    print(f\"The original Celsius value of {celsius} is larger than the new value of {celsius_two}.\")\nelif celsius < celsius_two:\n    print(f\"The original Celsius value of {celsius} is smaller than the new value of {celsius_two}.\")\nelse:\n    print(f\"The original Celsius value of {celsius} equals the new value of {celsius_two}.\")\n\nif fahrenheit >= fahrenheit_two:\n    print(f\"The original Fahrenheit value of {fahrenheit} is greater than or equal to the new value of {fahrenheit_two}.\")\nelif fahrenheit < fahrenheit_two:\n    print(f\"The original Fahrenheit value of {fahrenheit} is smaller than the new value of {fahrenheit_two}.\")\nelse:\n    print(f\"The original Fahrenheit value of {fahrenheit} is equal to {fahrenheit_two}.\")\n\nif kelvin <= kelvin_two:\n    print(f\"The original Kelvin value of {kelvin} is less than or equal to the new value of {kelvin_two}.\")\nif kelvin < kelvin_two:\n    print(f\"The original Kelvin value of {kelvin} is smaller than the new value of {kelvin_two}.\")\nif kelvin != kelvin_two:\n    print(f\"The original Kelvin value of {kelvin} is not equal to the new value of {kelvin_two}.\")\n\n# Logical Operators\nprint(\"\\nUsing logical operators:\")\nprint(\"celsius == celsius_two and fahrenheit < fahrenheit_two\")\nif celsius == celsius_two and fahrenheit < fahrenheit_two:\n    print(\"Python speaks the truth!\")\nelse:\n    print(\"Python lies.\")\n\nprint(\"celsius == celsius_two or kelvin != kelvin_two\")\nif celsius == celsius_two or kelvin != kelvin_two:\n    print(\"Python speaks the truth!\")\nelse:\n    print(\"Python lies.\")\n",
      "metadata": {
        "trusted": true
      },
      "outputs": [],
      "execution_count": null
    },
    {
      "id": "6f5bb14f-c305-40fc-9657-1fba45f463b3",
      "cell_type": "code",
      "source": "",
      "metadata": {
        "trusted": true
      },
      "outputs": [],
      "execution_count": null
    }
  ]
}